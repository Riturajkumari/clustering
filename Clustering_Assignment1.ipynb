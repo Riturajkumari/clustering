{
  "nbformat": 4,
  "nbformat_minor": 0,
  "metadata": {
    "colab": {
      "provenance": [],
      "authorship_tag": "ABX9TyN6belBNllbCxYmDMpKGGj/",
      "include_colab_link": true
    },
    "kernelspec": {
      "name": "python3",
      "display_name": "Python 3"
    },
    "language_info": {
      "name": "python"
    }
  },
  "cells": [
    {
      "cell_type": "markdown",
      "metadata": {
        "id": "view-in-github",
        "colab_type": "text"
      },
      "source": [
        "<a href=\"https://colab.research.google.com/github/Riturajkumari/clustering/blob/main/Clustering_Assignment1.ipynb\" target=\"_parent\"><img src=\"https://colab.research.google.com/assets/colab-badge.svg\" alt=\"Open In Colab\"/></a>"
      ]
    },
    {
      "cell_type": "markdown",
      "source": [
        "Q1. What are the different types of clustering algorithms, and how do they differ in terms of their approach\n",
        "and underlying assumptions?"
      ],
      "metadata": {
        "id": "8ZBxECoPNJzj"
      }
    },
    {
      "cell_type": "markdown",
      "source": [
        "Different types of clustering approaches in data mining use different methods to group the data from the datasets. This section describes the clustering approaches.\n",
        "\n",
        "#### The various types of clustering are:\n",
        "- Connectivity-based Clustering (Hierarchical clustering)\n",
        "- Centroids-based Clustering (Partitioning methods)     \n",
        "- Distribution-based Clustering\n",
        "- Density-based Clustering (Model-based methods)\n",
        "- Fuzzy Clustering\n",
        "- Constraint-based (Supervised Clustering)"
      ],
      "metadata": {
        "id": "XfuRZ5fJ0TkR"
      }
    },
    {
      "cell_type": "markdown",
      "source": [
        "**Connectivity-based Clustering (Hierarchical clustering)**:\n",
        "\n",
        "Hierarchical clustering, also known as connectivity-based clustering, is based on the principle that every object is connected to its neighbors depending on their proximity distance (degree of relationship). The clusters are represented in extensive hierarchical structures separated by a maximum distance required to connect the cluster parts.\n",
        "\n",
        "**Centroids-based Clustering (Partitioning methods)**\n",
        "\n",
        "Centroid-based clustering is the easiest of all the clustering types in data mining. It works on the closeness of the data points to the chosen central value. The datasets are divided into a given number of clusters, and a vector of values references every cluster. The input data variable is compared to the vector value and enters the cluster with minimal difference."
      ],
      "metadata": {
        "id": "hcip448k0r0B"
      }
    },
    {
      "cell_type": "markdown",
      "source": [
        "**Density-based Clustering (Model-based Methods)**\n",
        "\n",
        "Density-based clustering method considers density ahead of distance. Data is clustered by regions of high concentrations of data objects bounded by areas of low concentrations of data objects. The clusters formed are grouped as a maximal set of connected data points."
      ],
      "metadata": {
        "id": "vYhucolF6zzs"
      }
    },
    {
      "cell_type": "markdown",
      "source": [
        "**Distribution-Based Clustering:**  Distribution-based clustering creates and groups data points based on their likely hood of belonging to the same probability distribution (Gaussian, Binomial, etc.) in the data."
      ],
      "metadata": {
        "id": "oPHrhaEB7O5l"
      }
    },
    {
      "cell_type": "code",
      "source": [],
      "metadata": {
        "id": "khG0DhAp756a"
      },
      "execution_count": null,
      "outputs": []
    },
    {
      "cell_type": "markdown",
      "source": [
        "Q2.What is K-means clustering, and how does it work?"
      ],
      "metadata": {
        "id": "kojOIC6INMA_"
      }
    },
    {
      "cell_type": "markdown",
      "source": [
        "**K-Means Clustering** is an Unsupervised Machine Learning algorithm, which groups the unlabeled dataset into different clusters. Unsupervised Machine Learning learning is the process of teaching a computer to use unlabeled, unclassified data and enabling the algorithm to operate on that data without supervision.\n",
        "\n",
        "- The goal of clustering is to divide the population or set of data points into a number of groups so that the data points within each group are more comparable to one another and different from the data points within the other groups. It is essentially a grouping of things based on how similar and different they are to one another.\n",
        "\n",
        "      **The algorithm works as follows:**  \n",
        "\n",
        "- First, we randomly initialize k points, called means or cluster centroids.\n",
        "- We categorize each item to its closest mean and we update the mean’s coordinates, which are the averages of the items categorized in that cluster so far.\n",
        "- We repeat the process for a given number of iterations and at the end, we have our clusters."
      ],
      "metadata": {
        "id": "EVeyN3r18DLF"
      }
    },
    {
      "cell_type": "code",
      "source": [],
      "metadata": {
        "id": "1AxaKqBWNPSz"
      },
      "execution_count": null,
      "outputs": []
    },
    {
      "cell_type": "markdown",
      "source": [
        "Q3. What are some advantages and limitations of K-means clustering compared to other clustering\n",
        "techniques?"
      ],
      "metadata": {
        "id": "zxVCqcSKNQDw"
      }
    },
    {
      "cell_type": "markdown",
      "source": [
        "**Advantages of k-means**\n",
        "- Relatively simple to implement.\n",
        "\n",
        "- Scales to large data sets.\n",
        "\n",
        "- Guarantees convergence.\n",
        "\n",
        "- Can warm-start the positions of centroids.\n",
        "\n",
        "- Easily adapts to new examples.\n",
        "\n",
        "- Generalizes to clusters of different shapes and sizes, such as elliptical clusters."
      ],
      "metadata": {
        "id": "c8Oxh1XWOEE6"
      }
    },
    {
      "cell_type": "markdown",
      "source": [
        "K-means clustering is a popular unsupervised learning algorithm used for clustering data points into groups or clusters based on their similarity. It is a simple and fast algorithm that works well with large datasets. K-means clustering is often compared to other clustering techniques such as hierarchical clustering, DBSCAN, and Gaussian mixture models.\n",
        "\n",
        "- Hierarchical clustering is another popular clustering technique that works by creating a hierarchy of clusters. It is more flexible than k-means clustering as it does not require the number of clusters to be specified beforehand. However, it can be computationally expensive and may not work well with large datasets.\n",
        "\n",
        "- DBSCAN (Density-Based Spatial Clustering of Applications with Noise) is another popular clustering technique that works by grouping together data points that are close to each other in space. It is particularly useful for datasets with non-uniform density.\n",
        "\n",
        "- Gaussian mixture models (GMMs) are another popular clustering technique that works by modeling the distribution of data points using a mixture of Gaussian distributions. GMMs can be used to model complex data distributions and can work well with datasets that have overlapping clusters."
      ],
      "metadata": {
        "id": "plQRv_pPTA8t"
      }
    },
    {
      "cell_type": "code",
      "source": [],
      "metadata": {
        "id": "DzJoGpDKNU-p"
      },
      "execution_count": null,
      "outputs": []
    },
    {
      "cell_type": "markdown",
      "source": [
        "Q4. How do you determine the optimal number of clusters in K-means clustering, and what are some\n",
        "common methods for doing so?"
      ],
      "metadata": {
        "id": "PWFpJQgsNVJy"
      }
    },
    {
      "cell_type": "markdown",
      "source": [
        "- The optimal number of clusters in K-means clustering can be determined by computing the clustering algorithm for different values of k, for instance, by varying k from 1 to 10 clusters. For each k, calculate the total within-cluster sum of square (wss) and plot the curve of wss according to the number of clusters k. Another method is to use the Cubic Clustering Criteria (CCC) and look for CCC to increase to a maximum as you increment the number of clusters by 1, and then observe when the CCC starts to decrease."
      ],
      "metadata": {
        "id": "Yl6TBAQEUPny"
      }
    },
    {
      "cell_type": "markdown",
      "source": [
        "- There is also a popular method known as elbow method which is used to determine the optimal value of K to perform the K-Means Clustering Algorithm. The basic idea behind this method is that it plots the various values of cost with changing k. As the value of K increases, there will be fewer elements in the cluster."
      ],
      "metadata": {
        "id": "TKQYbvVDUbDb"
      }
    },
    {
      "cell_type": "code",
      "source": [],
      "metadata": {
        "id": "ZLTYF86BNTCY"
      },
      "execution_count": null,
      "outputs": []
    },
    {
      "cell_type": "code",
      "source": [],
      "metadata": {
        "id": "7fCa0XHbNY1Y"
      },
      "execution_count": null,
      "outputs": []
    },
    {
      "cell_type": "markdown",
      "source": [
        "Q5. What are some applications of K-means clustering in real-world scenarios, and how has it been used\n",
        "to solve specific problems?"
      ],
      "metadata": {
        "id": "cFGAVLqNNb5D"
      }
    },
    {
      "cell_type": "markdown",
      "source": [
        "K-Means clustering is used in a variety of examples or business cases in real life, like:\n",
        "\n",
        "- Academic performance\n",
        "- Diagnostic systems\n",
        "- Search engines\n",
        "- Wireless sensor networks"
      ],
      "metadata": {
        "id": "Nhr-2h1VU4mW"
      }
    },
    {
      "cell_type": "markdown",
      "source": [
        "Academic Performance\n",
        "Based on the scores, students are categorized into grades like A, B, or C.\n",
        "\n",
        "\n",
        "- Diagnostic systems\n",
        "\n",
        "The medical profession uses k-means in creating smarter medical decision support systems, especially in the treatment of liver ailments.\n",
        "\n",
        "-Search engines\n",
        "\n",
        "Clustering forms a backbone of search engines. When a search is performed, the search results need to be grouped, and the search engines very often use clustering to do this.\n",
        "\n",
        "- Wireless sensor networks\n",
        "\n",
        "The clustering algorithm plays the role of finding the cluster heads, which collect all the data in its respective cluster."
      ],
      "metadata": {
        "id": "qNFe_BXKVHIt"
      }
    },
    {
      "cell_type": "code",
      "source": [],
      "metadata": {
        "id": "H9LeLHqJNY4b"
      },
      "execution_count": null,
      "outputs": []
    },
    {
      "cell_type": "code",
      "source": [],
      "metadata": {
        "id": "ugmXnd4ENdCv"
      },
      "execution_count": null,
      "outputs": []
    },
    {
      "cell_type": "code",
      "source": [],
      "metadata": {
        "id": "MBGika9GNdGP"
      },
      "execution_count": null,
      "outputs": []
    },
    {
      "cell_type": "markdown",
      "source": [
        "Q6. How do you interpret the output of a K-means clustering algorithm, and what insights can you derive\n",
        "from the resulting clusters?"
      ],
      "metadata": {
        "id": "TmxUScD7NdRH"
      }
    },
    {
      "cell_type": "markdown",
      "source": [
        "The output of a K-means clustering algorithm is a set of K clusters, each containing a set of data points that are similar to each other. The clusters can be interpreted in different ways depending on the context of the problem being solved. Some insights that can be derived from the resulting clusters include identifying patterns in the data, understanding relationships between different variables, and identifying outliers or anomalies in the data"
      ],
      "metadata": {
        "id": "OCbfVDdSVjCo"
      }
    },
    {
      "cell_type": "code",
      "source": [],
      "metadata": {
        "id": "Bpe5CUUGNgQg"
      },
      "execution_count": null,
      "outputs": []
    },
    {
      "cell_type": "markdown",
      "source": [
        "Q7. What are some common challenges in implementing K-means clustering, and how can you address\n",
        "them?"
      ],
      "metadata": {
        "id": "HCll0OEKNgc4"
      }
    },
    {
      "cell_type": "markdown",
      "source": [
        "Some common challenges in implementing K-means clustering include:\n",
        "\n",
        "- k-Means doesn’t perform well if the clusters have varying sizes, different densities, or non-spherical shapes.\n",
        "- Has to be run for a certain amount of iteration or it would produce a suboptimal result.\n",
        "- Computationally expensive as distance is to be calculated from each centroid to all data points.\n",
        "- Can’t handle high dimensional data.\n",
        "- Number of clusters need to be specified."
      ],
      "metadata": {
        "id": "UVU_ZY6WV4ox"
      }
    },
    {
      "cell_type": "code",
      "source": [],
      "metadata": {
        "id": "wjzVQaYpNjOX"
      },
      "execution_count": null,
      "outputs": []
    }
  ]
}