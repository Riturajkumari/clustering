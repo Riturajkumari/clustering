{
  "nbformat": 4,
  "nbformat_minor": 0,
  "metadata": {
    "colab": {
      "provenance": [],
      "authorship_tag": "ABX9TyNHF3EGWePp6kp7Q/u1teBd",
      "include_colab_link": true
    },
    "kernelspec": {
      "name": "python3",
      "display_name": "Python 3"
    },
    "language_info": {
      "name": "python"
    }
  },
  "cells": [
    {
      "cell_type": "markdown",
      "metadata": {
        "id": "view-in-github",
        "colab_type": "text"
      },
      "source": [
        "<a href=\"https://colab.research.google.com/github/Riturajkumari/clustering/blob/main/Clustering_Assignment2.ipynb\" target=\"_parent\"><img src=\"https://colab.research.google.com/assets/colab-badge.svg\" alt=\"Open In Colab\"/></a>"
      ]
    },
    {
      "cell_type": "markdown",
      "source": [
        "Q1. What is hierarchical clustering, and how is it different from other clustering techniques?"
      ],
      "metadata": {
        "id": "lnTXyHvwTcB3"
      }
    },
    {
      "cell_type": "markdown",
      "source": [
        "\n",
        " - Clustering is a technique of grouping objects into clusters. Objects with the most similarities remain in a group and have less or no similarities with another group’s objects.\n",
        "\n",
        " Hierarchical Clustering is an unsupervised Learning Algorithm, and this is one of the most popular clustering technique in Machine Learning.\n",
        " - Hierarchical clustering is one of the popular clustering techniques after K-means Clustering. It is also known as Hierarchical Clustering Analysis (HCA)\n",
        "\n",
        "Which is used to group unlabelled datasets into a Cluster. This Hierarchical Clustering technique builds clusters based on the similarity between different objects in the set.\n",
        "\n",
        "It goes through the various features of the data points and looks for the similarity between them.\n",
        "\n",
        "This process will continue until the dataset has been grouped. Which creates a hierarchy for each of these clusters.\n",
        "\n",
        "Hierarchical Clustering deals with the data in the form of a tree or a well-defined hierarchy."
      ],
      "metadata": {
        "id": "exwVXD46UROX"
      }
    },
    {
      "cell_type": "markdown",
      "source": [
        "**This hierarchy way of clustering can be performed in two ways.**\n",
        "\n",
        "- Agglomerative: Hierarchy created from bottom to top.\n",
        "- Divisive: Hierarchy created from top to bottom."
      ],
      "metadata": {
        "id": "k8lI6OorVwKm"
      }
    },
    {
      "cell_type": "code",
      "source": [],
      "metadata": {
        "id": "_UTsFA5oTdDx"
      },
      "execution_count": null,
      "outputs": []
    },
    {
      "cell_type": "markdown",
      "source": [
        "Q2. What are the two main types of hierarchical clustering algorithms? Describe each in brief."
      ],
      "metadata": {
        "id": "qgqZcgjoTdOV"
      }
    },
    {
      "cell_type": "markdown",
      "source": [
        "**The Hierarchical Clustering technique has two types.**\n",
        "- Agglomerative Hierarchical Clustering\n",
        "Start with points as individual clusters.\n",
        "At each step, it merges the closest pair of clusters until only one cluster ( or K clusters left).\n",
        "\n",
        "- Divisive Hierarchical Clustering\n",
        "Start with one, all-inclusive cluster.\n",
        "At each step, it splits a cluster until each cluster contains a point ( or there are clusters)."
      ],
      "metadata": {
        "id": "z86iIaHmWbM-"
      }
    },
    {
      "cell_type": "markdown",
      "source": [
        "- Agglomerative: Agglomerative is a bottom-up approach, in which the algorithm starts with taking all data points as single clusters and merging them until one cluster is left.\n",
        "- Divisive: Divisive algorithm is the reverse of the agglomerative algorithm as it is a top-down approach."
      ],
      "metadata": {
        "id": "H9y2IpzgX3GC"
      }
    },
    {
      "cell_type": "markdown",
      "source": [
        "**Agglomerative Clustering**\n",
        "It is also known as AGNES ( Agglomerative Nesting) and follows the bottom-up approach.\n",
        "\n",
        "Each observation starts with its own cluster, and pairs of clusters are merged as one moves up the hierarchy.\n",
        "\n",
        "That means the algorithm considers each data point as a single cluster initially and then starts combining the closest pair of clusters together.\n",
        "\n",
        "It does the same process until all the clusters are merged into a single cluster that contains all the datasets."
      ],
      "metadata": {
        "id": "OTjPhfXKWxef"
      }
    },
    {
      "cell_type": "markdown",
      "source": [
        "The working of the AHC algorithm can be explained using the below steps:\n",
        "- Step-1: Create each data point as a single cluster.there are N data points, so the number of clusters will also be N.\n",
        "- Step-2: Take two closest data points or clusters and merge them to form one cluster. So, there will now be N-1 clusters.\n",
        "- Step-3: Again, take the two closest clusters and merge them together to form one cluster. There will be N-2 clusters.\n",
        "- Step-4: Repeat Step 3 until only one cluster left.\n",
        "- Step-5: Once all the clusters are combined into one big cluster, develop the dendrogram to divide the clusters as per the problem."
      ],
      "metadata": {
        "id": "JQZVA3brljXy"
      }
    },
    {
      "cell_type": "code",
      "source": [],
      "metadata": {
        "id": "0wWa1dt8lmRp"
      },
      "execution_count": null,
      "outputs": []
    },
    {
      "cell_type": "markdown",
      "source": [
        "Q3. How do you determine the distance between two clusters in hierarchical clustering, and what are the\n",
        "common distance metrics used?"
      ],
      "metadata": {
        "id": "3bQaOAmYTgKH"
      }
    },
    {
      "cell_type": "markdown",
      "source": [
        "- Hierarchical clustering is a type of clustering algorithm that builds a hierarchy of clusters. It starts with all the data points assigned to a cluster of their own. Then two nearest clusters are merged into the same cluster."
      ],
      "metadata": {
        "id": "vuXubHYVvrNZ"
      }
    },
    {
      "cell_type": "markdown",
      "source": [
        "In hierarchical clustering, the distance between two clusters is defined by the linkage method used. Some popular linkage methods are:\n",
        "\n",
        "- Complete linkage: the distance between two clusters is defined as the longest distance between two points in each cluster.\n",
        "- Single linkage: the distance between two clusters is defined as the shortest distance between two points in each cluster.\n",
        "- Average linkage: the distance between two clusters is defined as the average distance between all pairs of points in the two clusters.\n",
        "- Ward linkage: the distance between two clusters is defined as the increase in the sum of squared errors when the two clusters are merged"
      ],
      "metadata": {
        "id": "a_lTnRL3v9pQ"
      }
    },
    {
      "cell_type": "code",
      "source": [],
      "metadata": {
        "id": "QRoybVA5TkJy"
      },
      "execution_count": null,
      "outputs": []
    },
    {
      "cell_type": "markdown",
      "source": [
        "Q4. How do you determine the optimal number of clusters in hierarchical clustering, and what are some\n",
        "common methods used for this purpose?"
      ],
      "metadata": {
        "id": "BJ-DyPInTkbu"
      }
    },
    {
      "cell_type": "markdown",
      "source": [
        "There are different methods to determine the optimal number of clusters in hierarchical clustering. One of the most common methods is the elbow method.\n",
        "\n",
        "- Elbow criterion: Compute clustering algorithm (e.g., k-means clustering) for different values of k. For each k, calculate the total within-cluster sum of square (wss). Plot the curve of wss according to the number of clusters k. The location of a bend (knee) in the plot is generally considered as an indicator of the appropriate number of clusters.\n",
        "- Mean and variance criterion: Statistically describe the clusters using the mean and some sort of variance criterion."
      ],
      "metadata": {
        "id": "VfM5zg4qwRVq"
      }
    },
    {
      "cell_type": "code",
      "source": [],
      "metadata": {
        "id": "9kX3jeikTnWK"
      },
      "execution_count": null,
      "outputs": []
    },
    {
      "cell_type": "markdown",
      "source": [
        "Q5. What are dendrograms in hierarchical clustering, and how are they useful in analyzing the results?"
      ],
      "metadata": {
        "id": "6rywtBiOTnhu"
      }
    },
    {
      "cell_type": "markdown",
      "source": [
        "A Dendrogram is a diagram that represents the hierarchical relationship between objects. The Dendrogram is used to display the distance between each pair of sequentially merged objects.\n",
        "These are commonly used in studying hierarchical clusters before deciding the number of clusters significant to the dataset. The distance at which the two clusters combine is referred to as the dendrogram distance.\n",
        "- dendrogram is to focus on the height at which any two objects are joined together.\n",
        "- A Dendrogram is a tree-like diagram used to visualize the relationship among clusters. More the distance of the vertical lines in the dendrogram, the more the distance between those clusters. The key to interpreting a dendrogram is to concentrate on the height at which any two objects are joined together."
      ],
      "metadata": {
        "id": "DW3MxyMoy7WZ"
      }
    },
    {
      "cell_type": "code",
      "source": [
        "# Python program to plot the hierarchical\n",
        "# clustering dendrogram using SciPy\n",
        "\n",
        "# Import the python libraries\n",
        "import numpy as np\n",
        "from scipy.cluster import hierarchy\n",
        "import matplotlib.pyplot as plt\n",
        "\n",
        "# Create an array\n",
        "x = np.array([100., 200., 300., 400., 500., 250.,\n",
        "\t\t\t450., 280., 450., 750.])\n",
        "\n",
        "# Plot the hierarchical clustering as a dendrogram.\n",
        "temp = hierarchy.linkage(x, 'single')\n",
        "plt.figure()\n",
        "\n",
        "dn = hierarchy.dendrogram(\n",
        "\ttemp, above_threshold_color=\"green\", color_threshold=.7)\n"
      ],
      "metadata": {
        "colab": {
          "base_uri": "https://localhost:8080/",
          "height": 434
        },
        "id": "Wb9NB4sPTqQh",
        "outputId": "942d714e-b5b4-4d15-c494-84a5c2d60b51"
      },
      "execution_count": 2,
      "outputs": [
        {
          "output_type": "display_data",
          "data": {
            "text/plain": [
              "<Figure size 640x480 with 1 Axes>"
            ],
            "image/png": "[encoded data removed]"
          },
          "metadata": {}
        }
      ]
    },
    {
      "cell_type": "markdown",
      "source": [
        "Implementing hierarchical clustering and plotting dendrogram\n",
        "For implementing the hierarchical clustering and plotting dendrogram we will use some methods which are as follows:\n",
        "\n",
        "- The functions for hierarchical and agglomerative clustering are provided by the hierarchy module.\n",
        "- To perform hierarchical clustering, scipy.cluster.hierarchy.linkage function is used. The parameters of this function are:\n",
        "- To plot the hierarchical clustering as a dendrogram scipy.cluster.hierarchy.dendrogram function is used."
      ],
      "metadata": {
        "id": "KnC4qNHn86YW"
      }
    },
    {
      "cell_type": "code",
      "source": [],
      "metadata": {
        "id": "jADnFmUbTqw3"
      },
      "execution_count": null,
      "outputs": []
    },
    {
      "cell_type": "markdown",
      "source": [
        "Q6. Can hierarchical clustering be used for both numerical and categorical data? If yes, how are the\n",
        "distance metrics different for each type of data?"
      ],
      "metadata": {
        "id": "fa4VnP_3Tq9K"
      }
    },
    {
      "cell_type": "markdown",
      "source": [
        "- Yes, hierarchical clustering can be used for both numerical and categorical data.\n",
        "- Hierarchical clustering can be used for both numeric and categorical data. However, the choice of distance metric may depend on the type of data being clustered. For numeric data, Euclidean distance is commonly used, while for categorical data, Manhattan distance or other distance metrics may be used."
      ],
      "metadata": {
        "id": "mHiWZb0q9imR"
      }
    },
    {
      "cell_type": "code",
      "source": [],
      "metadata": {
        "id": "beo6Sz9oTuS3"
      },
      "execution_count": null,
      "outputs": []
    },
    {
      "cell_type": "markdown",
      "source": [
        "Q7. How can you use hierarchical clustering to identify outliers or anomalies in your data?"
      ],
      "metadata": {
        "id": "UIle-7MYTueH"
      }
    },
    {
      "cell_type": "markdown",
      "source": [
        "- Hierarchical clustering is a method of clustering data points into groups or clusters based on their similarity. It is used to identify outliers or anomalies in data by identifying data points that do not belong to any cluster or belong to a small cluster. The idea is that outliers will be far away from the other data points and will not be included in any cluster."
      ],
      "metadata": {
        "id": "fotQBMCD-dEL"
      }
    },
    {
      "cell_type": "markdown",
      "source": [
        "- There are several methods for identifying outliers using hierarchical clustering. One method is to use the distance between clusters as a measure of similarity. Data points that are far away from all other clusters are considered outliers. Another method is to use the size of the cluster as a measure of similarity. Data points that belong to small clusters are considered outliers."
      ],
      "metadata": {
        "id": "LuhVl1yj-rj_"
      }
    }
  ]
}